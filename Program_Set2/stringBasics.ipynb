{
 "cells": [
  {
   "cell_type": "code",
   "execution_count": 10,
   "metadata": {},
   "outputs": [
    {
     "name": "stdout",
     "output_type": "stream",
     "text": [
      "H\n",
      "d\n"
     ]
    }
   ],
   "source": [
    "# Accessing Characters:\n",
    "# You can access individual characters in a string using indexing, starting from 0.\n",
    "# Negative indices count from the end of the string.\n",
    "my_string = \"Hello, World!\"\n",
    "print(my_string[0])      # Output: 'H'\n",
    "print(my_string[-2])     # Output: '!'"
   ]
  },
  {
   "cell_type": "code",
   "execution_count": 11,
   "metadata": {},
   "outputs": [
    {
     "name": "stdout",
     "output_type": "stream",
     "text": [
      "13\n"
     ]
    }
   ],
   "source": [
    "# Length of a String:\n",
    "# The len() function returns the length of a string,\n",
    "# which is the number of characters in the string.\n",
    "my_string = \"Hello, World!\"\n",
    "print(len(my_string))    # Output: 13"
   ]
  },
  {
   "cell_type": "code",
   "execution_count": 12,
   "metadata": {},
   "outputs": [
    {
     "name": "stdout",
     "output_type": "stream",
     "text": [
      "Hello, World\n",
      "12\n"
     ]
    }
   ],
   "source": [
    "# String Concatenation:\n",
    "# You can concatenate strings using the + operator or the += assignment operator.\n",
    "string1 = \"Hello\"\n",
    "string2 = \"World\"\n",
    "result = string1 + \", \" + string2\n",
    "print(result)            # Output: \"Hello, World\"\n",
    "print(len(result))"
   ]
  },
  {
   "cell_type": "code",
   "execution_count": 15,
   "metadata": {},
   "outputs": [
    {
     "name": "stdout",
     "output_type": "stream",
     "text": [
      "World\n",
      "Hello\n",
      "World!\n",
      "Hello, World!\n"
     ]
    }
   ],
   "source": [
    "# String Slicing:\n",
    "# You can extract a substring from a string using slicing,\n",
    "# which allows you to specify a range of indices.\n",
    "my_string = \"Hello, World!\"\n",
    "print(my_string[7:12])   # Output: \"World\"\n",
    "print(my_string[:5])     # Output: \"Hello\"\n",
    "print(my_string[7:])     # Output: \"World!\"\n",
    "print(my_string[:])"
   ]
  },
  {
   "cell_type": "code",
   "execution_count": 67,
   "metadata": {},
   "outputs": [
    {
     "name": "stdout",
     "output_type": "stream",
     "text": [
      "welcome# students# !\n",
      "['WELCOME', 'STUDENTS', '!']\n"
     ]
    }
   ],
   "source": [
    "# String Methods:\n",
    "# Python provides many built-in methods for manipulating strings.\n",
    "# Here are some commonly used ones:\n",
    "my_string = \"WELCOME# STUDENTS# !\"\n",
    "print(my_string.lower())          # Output: \"hello, world!\"\n",
    "d_var = my_string.split(\"# \")\n",
    "print(d_var)      # Output: ['Hello', 'World!']\n"
   ]
  },
  {
   "cell_type": "code",
   "execution_count": 39,
   "metadata": {},
   "outputs": [
    {
     "name": "stdout",
     "output_type": "stream",
     "text": [
      "Hi STUDENTS# !\n",
      "WELCOME# STUDENTS# !\n",
      "False\n"
     ]
    }
   ],
   "source": [
    "print(my_string.replace(\"WELCOME#\", \"Hi\"))  # Output: \"Hi, World!\"\n",
    "print(my_string)\n",
    "print(my_string.startswith(\"XWELCOM\"))      # Output: True\n"
   ]
  },
  {
   "cell_type": "code",
   "execution_count": 40,
   "metadata": {},
   "outputs": [
    {
     "name": "stdout",
     "output_type": "stream",
     "text": [
      "9\n",
      " ISLAMIC UNIVERSITY\n",
      " islamic university\n"
     ]
    }
   ],
   "source": [
    "my_string = \" Islamic University\"\n",
    "print(my_string.find(\"University\"))  # 9\n",
    "print(my_string.upper())  # HELLO WORLD\n",
    "print(my_string.lower())  # hello world"
   ]
  },
  {
   "cell_type": "code",
   "execution_count": 26,
   "metadata": {},
   "outputs": [
    {
     "name": "stdout",
     "output_type": "stream",
     "text": [
      "['Enfield', 'Pulsar', 'avenger']\n",
      "avenger\n",
      "My first bike was :  Avenger.\n"
     ]
    }
   ],
   "source": [
    "motorcycles = []\n",
    "motorcycles.append('Enfield')\n",
    "motorcycles.append('Pulsar')\n",
    "motorcycles.append('avenger')\n",
    "print(motorcycles)\n",
    "print(motorcycles[-1])  # Showing the last element of an array\n",
    "message = f\"My first bike was :  {motorcycles[2].title()}.\"  # title() makes the element at specified location to the title case\n",
    "print(message)"
   ]
  },
  {
   "cell_type": "code",
   "execution_count": 43,
   "metadata": {},
   "outputs": [
    {
     "name": "stdout",
     "output_type": "stream",
     "text": [
      "['M', 'I', 'T', '4', 'S', 't', 'u', 'd', 'e', 'n', 't', 's']\n",
      "['M', 'I', 'T', '2', 'S', 't', 'u', 'd', 'e', 'n', 't', 's']\n"
     ]
    }
   ],
   "source": [
    "# Change a string into a list\n",
    "my_string = \"MIT4Students\"\n",
    "L = list(my_string)\n",
    "print(L)\n",
    "L[3] = '2'\n",
    "print(L)"
   ]
  },
  {
   "cell_type": "code",
   "execution_count": 46,
   "metadata": {},
   "outputs": [
    {
     "name": "stdout",
     "output_type": "stream",
     "text": [
      "M I T 2 S t u d e n t s\n"
     ]
    }
   ],
   "source": [
    "new_string = \" \".join(L)\n",
    "print(new_string)"
   ]
  },
  {
   "cell_type": "code",
   "execution_count": 60,
   "metadata": {},
   "outputs": [
    {
     "name": "stdout",
     "output_type": "stream",
     "text": [
      "26\n",
      "kashmir\n",
      "7\n"
     ]
    }
   ],
   "source": [
    "new_string = \"      kashmir   ///?,ab   \"\n",
    "print(len(new_string))\n",
    "x = new_string.strip(\",a?/b \")\n",
    "print(x)\n",
    "print(len(x))"
   ]
  },
  {
   "cell_type": "code",
   "execution_count": 65,
   "metadata": {},
   "outputs": [
    {
     "name": "stdout",
     "output_type": "stream",
     "text": [
      "['a', 'b', 'z']\n"
     ]
    }
   ],
   "source": [
    "x = 'bza'\n",
    "y = sorted(x)\n",
    "print(y)"
   ]
  },
  {
   "cell_type": "code",
   "execution_count": 66,
   "metadata": {},
   "outputs": [
    {
     "name": "stdout",
     "output_type": "stream",
     "text": [
      "I\n",
      "U\n",
      "S\n",
      "T\n"
     ]
    }
   ],
   "source": [
    "new_string = 'IUST'\n",
    "for character in new_string:\n",
    "    print(character)"
   ]
  },
  {
   "cell_type": "code",
   "execution_count": null,
   "metadata": {},
   "outputs": [],
   "source": []
  }
 ],
 "metadata": {
  "kernelspec": {
   "display_name": "Python 3",
   "language": "python",
   "name": "python3"
  },
  "language_info": {
   "codemirror_mode": {
    "name": "ipython",
    "version": 3
   },
   "file_extension": ".py",
   "mimetype": "text/x-python",
   "name": "python",
   "nbconvert_exporter": "python",
   "pygments_lexer": "ipython3",
   "version": "3.6.8"
  }
 },
 "nbformat": 4,
 "nbformat_minor": 2
}
