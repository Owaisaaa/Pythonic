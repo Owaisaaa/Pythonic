{
 "cells": [
  {
   "cell_type": "code",
   "execution_count": 1,
   "metadata": {},
   "outputs": [
    {
     "name": "stdout",
     "output_type": "stream",
     "text": [
      "Sum of the two lists : [20, 22, 24, 30, 40]\n"
     ]
    }
   ],
   "source": [
    "# Adding two lists of equal size\n",
    "list1 = [10, 11, 12, 15, 20]\n",
    "list2 = [10, 11, 12, 15, 20]\n",
    "# Approach 1\n",
    "if len(list1)>len(list2):\n",
    "    m_list = len(list1)\n",
    "else:\n",
    "    m_list = len(list2)\n",
    "output = []\n",
    "for i in range(0, m_list):\n",
    "    sum = list1[i] + list2[i]\n",
    "    output.append(sum)\n",
    "print(f'Sum of the two lists : {output}')"
   ]
  },
  {
   "cell_type": "code",
   "execution_count": 2,
   "metadata": {},
   "outputs": [
    {
     "name": "stdout",
     "output_type": "stream",
     "text": [
      "Sum of the two lists : [20, 22, 24, 30, 40]\n"
     ]
    }
   ],
   "source": [
    "# Approach 2  \n",
    "output = [x + y for x, y in zip(list1, list2)]\n",
    "print(f'Sum of the two lists : {output}')"
   ]
  },
  {
   "cell_type": "code",
   "execution_count": 3,
   "metadata": {},
   "outputs": [
    {
     "name": "stdout",
     "output_type": "stream",
     "text": [
      "[159, 221, 456, 294, 216, 257, 577, 132, 330, 361]\n"
     ]
    }
   ],
   "source": [
    "# Importing\n",
    "from itertools import cycle\n",
    "\n",
    "# List initialization\n",
    "list1 = [150, 177, 454, 126]\n",
    "list2 = [9, 44, 2, 168, 66, 80, 123, 6, 180, 184]\n",
    " \n",
    "# Using zip\n",
    "output = [x + y for x, y in zip(cycle(list1), list2)]\n",
    " \n",
    "# Printing output\n",
    "print(output)"
   ]
  },
  {
   "cell_type": "code",
   "execution_count": 4,
   "metadata": {},
   "outputs": [
    {
     "name": "stdout",
     "output_type": "stream",
     "text": [
      "[[1, 2], [50, 1], [100, 2], [5, 1]]\n"
     ]
    }
   ],
   "source": [
    "# Counting the occurrences of elements in the list\n",
    "days = [1, 50, 100, 5, 1, 100]\n",
    "y = set(days)\n",
    "\n",
    "print([[x,days.count(x)] for x in y])"
   ]
  },
  {
   "cell_type": "code",
   "execution_count": 5,
   "metadata": {},
   "outputs": [
    {
     "name": "stdout",
     "output_type": "stream",
     "text": [
      "1 is present 2 times\n",
      "50 is present 1 times\n",
      "100 is present 2 times\n",
      "5 is present 1 times\n"
     ]
    }
   ],
   "source": [
    "# Counting the occurrences of elements in the list\n",
    "days = [1, 50, 100, 5, 1, 100]\n",
    "y = set(days)\n",
    "for x in y:\n",
    "    print(f'{x} is present {days.count(x)} times')\n"
   ]
  },
  {
   "cell_type": "code",
   "execution_count": 5,
   "metadata": {},
   "outputs": [
    {
     "name": "stdout",
     "output_type": "stream",
     "text": [
      "S M T W Tr F St\n"
     ]
    }
   ],
   "source": [
    "# Convert a list into a string, we can use the <.join()> method \n",
    "# which joins all the elements into one and returns as a string.\n",
    "days = ['S','M','T','W','Tr','F','St'] \n",
    "ltos = ' '.join(days)\n",
    "print(ltos)"
   ]
  },
  {
   "cell_type": "code",
   "execution_count": 1,
   "metadata": {},
   "outputs": [
    {
     "name": "stdout",
     "output_type": "stream",
     "text": [
      "Aijaz\n",
      "['Tahir', 'Zubair', 'Owais', 'Aijaz']\n"
     ]
    }
   ],
   "source": [
    "#  **************** USING choice() and shuffle() FUNCTIONS from random MODULE  *******************\n",
    "import random\n",
    "people = ['Owais', 'Zubair', 'Aijaz', 'Tahir']\n",
    "print(random.choice(people))  # random.choice(listName) returns a randomly selected value from the list\n",
    "random.shuffle(people)  # random.shuffle() reorder the items in a list\n",
    "print(people)"
   ]
  },
  {
   "cell_type": "code",
   "execution_count": 3,
   "metadata": {},
   "outputs": [
    {
     "name": "stdout",
     "output_type": "stream",
     "text": [
      "[6, 16, 28, 29, 37, 22, 24, 31]\n"
     ]
    }
   ],
   "source": [
    "import random\n",
    "#Generate 8 random numbers between 10 and 30\n",
    "randomlist = random.sample(range(5, 40), 8)\n",
    "print(randomlist)"
   ]
  },
  {
   "cell_type": "code",
   "execution_count": null,
   "metadata": {},
   "outputs": [],
   "source": []
  }
 ],
 "metadata": {
  "kernelspec": {
   "display_name": "Python 3",
   "language": "python",
   "name": "python3"
  },
  "language_info": {
   "codemirror_mode": {
    "name": "ipython",
    "version": 3
   },
   "file_extension": ".py",
   "mimetype": "text/x-python",
   "name": "python",
   "nbconvert_exporter": "python",
   "pygments_lexer": "ipython3",
   "version": "3.6.8"
  }
 },
 "nbformat": 4,
 "nbformat_minor": 2
}
