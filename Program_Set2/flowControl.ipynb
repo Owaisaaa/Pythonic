{
 "cells": [
  {
   "cell_type": "code",
   "execution_count": 13,
   "metadata": {},
   "outputs": [
    {
     "name": "stdout",
     "output_type": "stream",
     "text": [
      "1899990224\n",
      "1899990224\n",
      "1899993424\n"
     ]
    }
   ],
   "source": [
    "x = 100\n",
    "y = x\n",
    "print(id(x))\n",
    "print(id(y))\n",
    "y = 200\n",
    "print(id(y))\n"
   ]
  },
  {
   "cell_type": "code",
   "execution_count": 16,
   "metadata": {},
   "outputs": [
    {
     "name": "stdout",
     "output_type": "stream",
     "text": [
      " This is our\n",
      "multiline string\n"
     ]
    }
   ],
   "source": [
    "str = ''' This is our\n",
    "multiline string'''\n",
    "print(str)"
   ]
  },
  {
   "cell_type": "code",
   "execution_count": 23,
   "metadata": {},
   "outputs": [
    {
     "name": "stdout",
     "output_type": "stream",
     "text": [
      "Hi, Alice\n"
     ]
    }
   ],
   "source": [
    "# flow control using if else\n",
    "name = \"Alice\"\n",
    "age = 3000\n",
    "if name == \"Alice\":\n",
    "    print('Hi, Alice')\n",
    "elif age < 12:\n",
    "    print(\"You are not Alice, kiddo\")\n",
    "elif age > 2000:\n",
    "    print(\"Unilike you, Alice is an undead, imortal vampire\")\n",
    "elif age > 100:\n",
    "    print(\"You are not Alice, grannie\")\n",
    "else:\n",
    "    print(\"I am talking to the wrong person\")\n",
    "    \n",
    "    \n"
   ]
  },
  {
   "cell_type": "code",
   "execution_count": 24,
   "metadata": {},
   "outputs": [
    {
     "name": "stdout",
     "output_type": "stream",
     "text": [
      "D\n"
     ]
    }
   ],
   "source": [
    "marks = \n",
    "marks = 78\n",
    "if marks > 75:\n",
    "    print('D')\n",
    "elif marks > 40:\n",
    "    print('P')\n",
    "else:\n",
    "    print('F')"
   ]
  },
  {
   "cell_type": "code",
   "execution_count": null,
   "metadata": {},
   "outputs": [],
   "source": []
  }
 ],
 "metadata": {
  "kernelspec": {
   "display_name": "Python 3",
   "language": "python",
   "name": "python3"
  },
  "language_info": {
   "codemirror_mode": {
    "name": "ipython",
    "version": 3
   },
   "file_extension": ".py",
   "mimetype": "text/x-python",
   "name": "python",
   "nbconvert_exporter": "python",
   "pygments_lexer": "ipython3",
   "version": "3.6.8"
  }
 },
 "nbformat": 4,
 "nbformat_minor": 2
}
