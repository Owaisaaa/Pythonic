{
 "cells": [
  {
   "cell_type": "code",
   "execution_count": 7,
   "metadata": {},
   "outputs": [
    {
     "name": "stdout",
     "output_type": "stream",
     "text": [
      "{'Name': 'Tanzeel', 'rollNumber': 1, 'age': 31}\n"
     ]
    }
   ],
   "source": [
    "d = {'Name':'Tanzeel',\n",
    "     'rollNumber': 1,\n",
    "     'age' : 31}\n",
    "print(d)\n"
   ]
  },
  {
   "cell_type": "code",
   "execution_count": 26,
   "metadata": {},
   "outputs": [
    {
     "name": "stdout",
     "output_type": "stream",
     "text": [
      "{'Name': ['Tanzeel', 'Tariq', 'Asif'], 'rollNumber': [1, 2, 3], 'age': [31, 26]}\n"
     ]
    }
   ],
   "source": [
    "d = {'Name':['Tanzeel', 'Tariq', 'Asif'],\n",
    "     'rollNumber': [1, 2, 3],\n",
    "     'age' : [31, 26]}\n",
    "print(d)"
   ]
  },
  {
   "cell_type": "code",
   "execution_count": 31,
   "metadata": {},
   "outputs": [
    {
     "name": "stdout",
     "output_type": "stream",
     "text": [
      "dict_keys(['Name', 'rollNumber', 'age'])\n"
     ]
    }
   ],
   "source": [
    "v = d.keys()\n",
    "print(v)"
   ]
  },
  {
   "cell_type": "code",
   "execution_count": 8,
   "metadata": {},
   "outputs": [
    {
     "name": "stdout",
     "output_type": "stream",
     "text": [
      "{'name': 'Tanzeel', 'address': 'Awantipora'}\n"
     ]
    }
   ],
   "source": [
    "d2 = {}\n",
    "d2['name'] = \"Tanzeel\"\n",
    "d2['address'] = \"Awantipora\"\n",
    "print(d2)"
   ]
  },
  {
   "cell_type": "code",
   "execution_count": 15,
   "metadata": {},
   "outputs": [
    {
     "name": "stdout",
     "output_type": "stream",
     "text": [
      "[(1, 'a'), (2, 'b'), (3, 'c'), (4, 'd')]\n"
     ]
    }
   ],
   "source": [
    "list1 = [1,2,3,4]\n",
    "list2 = ['a','b','c', 'd']\n",
    "r = zip(list1, list2)\n",
    "print(list(r))"
   ]
  },
  {
   "cell_type": "code",
   "execution_count": 20,
   "metadata": {},
   "outputs": [
    {
     "name": "stdout",
     "output_type": "stream",
     "text": [
      "0\n"
     ]
    }
   ],
   "source": [
    "list3 = [10, 50, 10, 75, 50, 80]\n",
    "print(list3.count(list3[2]))"
   ]
  },
  {
   "cell_type": "code",
   "execution_count": 22,
   "metadata": {},
   "outputs": [
    {
     "name": "stdout",
     "output_type": "stream",
     "text": [
      "{'name': 'Zakir', 'age': 30, 'major': 'CS'}\n"
     ]
    }
   ],
   "source": [
    "# Creating a dictionary - method 3\n",
    "student = dict(name = 'Zakir', age = 30, major = 'CS')\n",
    "print(student)"
   ]
  },
  {
   "cell_type": "code",
   "execution_count": 25,
   "metadata": {},
   "outputs": [
    {
     "name": "stdout",
     "output_type": "stream",
     "text": [
      "dict_keys(['name', 'age', 'major'])\n",
      "dict_values(['Zakir', 30, 'CS'])\n",
      "dict_items([('name', 'Zakir'), ('age', 30), ('major', 'CS')])\n"
     ]
    }
   ],
   "source": [
    "print(student.keys())\n",
    "print(student.values())\n",
    "print(student.items())"
   ]
  },
  {
   "cell_type": "code",
   "execution_count": 36,
   "metadata": {},
   "outputs": [
    {
     "name": "stdout",
     "output_type": "stream",
     "text": [
      "{10: 2, 2: 3, 56: 1, 11: 1, 78: 1, 90: 1}\n"
     ]
    }
   ],
   "source": [
    "# use lists and dictionary objects\n",
    "# Count the frequency of elements of a list\n",
    "freq = {}\n",
    "list3 = [10, 2, 56, 2, 11, 10, 78, 90, 2]\n",
    "for i in list3:\n",
    "    freq[i] = list3.count(i)\n",
    "\n",
    "print(freq)"
   ]
  },
  {
   "cell_type": "code",
   "execution_count": 41,
   "metadata": {},
   "outputs": [
    {
     "name": "stdout",
     "output_type": "stream",
     "text": [
      "[2, 90, 78, 10, 11, 2, 56, 2, 10]\n"
     ]
    }
   ],
   "source": [
    "print(list3[: : -1])"
   ]
  },
  {
   "cell_type": "code",
   "execution_count": 45,
   "metadata": {},
   "outputs": [
    {
     "name": "stdout",
     "output_type": "stream",
     "text": [
      "{0, 5, 10, 15, 20}\n"
     ]
    }
   ],
   "source": [
    "my_set = set(range(0,20,5))\n",
    "my_set.add(20)\n",
    "\n",
    "print(my_set)"
   ]
  },
  {
   "cell_type": "code",
   "execution_count": 49,
   "metadata": {},
   "outputs": [
    {
     "name": "stdout",
     "output_type": "stream",
     "text": [
      "frozenset({1, 2, 3})\n"
     ]
    }
   ],
   "source": [
    "# Creating an immutable set (frozenset)\n",
    "immutable_set = frozenset([1, 2, 3])\n",
    "print(immutable_set)"
   ]
  },
  {
   "cell_type": "code",
   "execution_count": 8,
   "metadata": {},
   "outputs": [
    {
     "name": "stdout",
     "output_type": "stream",
     "text": [
      "1\n",
      "50\n",
      "60\n",
      "89\n"
     ]
    },
    {
     "data": {
      "text/plain": [
       "3"
      ]
     },
     "execution_count": 8,
     "metadata": {},
     "output_type": "execute_result"
    }
   ],
   "source": [
    "t = (1, 50,60,89)\n",
    "for i in range(len(t)):\n",
    "    print(t[i])\n",
    "    \n",
    "t.count(60)\n",
    "t.index(89)"
   ]
  },
  {
   "cell_type": "code",
   "execution_count": 12,
   "metadata": {},
   "outputs": [
    {
     "name": "stdout",
     "output_type": "stream",
     "text": [
      "{0, 100, 5, 10, 15, 20, 25}\n"
     ]
    }
   ],
   "source": [
    "x = set(range(0, 30, 5))\n",
    "x.add(100)\n",
    "print(x)"
   ]
  },
  {
   "cell_type": "code",
   "execution_count": 13,
   "metadata": {},
   "outputs": [
    {
     "name": "stdout",
     "output_type": "stream",
     "text": [
      "{80, 2, 5, 63}\n"
     ]
    }
   ],
   "source": [
    "list1 = [2,80,5,2,63,80]\n",
    "s_list1 = set(list1)\n",
    "print(s_list1)\n"
   ]
  },
  {
   "cell_type": "code",
   "execution_count": null,
   "metadata": {},
   "outputs": [],
   "source": [
    "# count the number of elements in a list with duplicate elements\n",
    "# The output should contain the element and its frequence only once \n",
    "# do not use dictionary\n"
   ]
  }
 ],
 "metadata": {
  "kernelspec": {
   "display_name": "Python 3",
   "language": "python",
   "name": "python3"
  },
  "language_info": {
   "codemirror_mode": {
    "name": "ipython",
    "version": 3
   },
   "file_extension": ".py",
   "mimetype": "text/x-python",
   "name": "python",
   "nbconvert_exporter": "python",
   "pygments_lexer": "ipython3",
   "version": "3.6.8"
  }
 },
 "nbformat": 4,
 "nbformat_minor": 2
}
