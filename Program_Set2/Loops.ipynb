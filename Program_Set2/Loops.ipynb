{
 "cells": [
  {
   "cell_type": "code",
   "execution_count": 1,
   "metadata": {},
   "outputs": [
    {
     "name": "stdout",
     "output_type": "stream",
     "text": [
      "The value inside x is : 100\n"
     ]
    }
   ],
   "source": [
    "# formattd strings\n",
    "x = 100\n",
    "print(f'The value inside x is : {x}')"
   ]
  },
  {
   "cell_type": "code",
   "execution_count": 4,
   "metadata": {},
   "outputs": [
    {
     "name": "stdout",
     "output_type": "stream",
     "text": [
      "<class 'range'>\n",
      "0\n",
      "1\n",
      "2\n",
      "3\n",
      "4\n",
      "5\n",
      "6\n",
      "7\n",
      "8\n",
      "9\n"
     ]
    }
   ],
   "source": [
    "# range function [start, end, increment]\n",
    "x = range(10)\n",
    "print(type(x))\n",
    "for i in x:\n",
    "    print(i)"
   ]
  },
  {
   "cell_type": "code",
   "execution_count": 7,
   "metadata": {},
   "outputs": [
    {
     "name": "stdout",
     "output_type": "stream",
     "text": [
      "0\n",
      "2\n",
      "4\n",
      "6\n",
      "8\n"
     ]
    }
   ],
   "source": [
    "x = range(0, 9, 2)\n",
    "for i in x:\n",
    "    print(i)"
   ]
  },
  {
   "cell_type": "code",
   "execution_count": 9,
   "metadata": {},
   "outputs": [
    {
     "name": "stdout",
     "output_type": "stream",
     "text": [
      "count : 2\n",
      "count : 3\n",
      "count : 4\n",
      "count : 5\n",
      "count : 6\n"
     ]
    }
   ],
   "source": [
    "# for loop\n",
    "for n in range(5):\n",
    "    \n",
    "    print(f'count : {n}')"
   ]
  },
  {
   "cell_type": "code",
   "execution_count": 11,
   "metadata": {},
   "outputs": [
    {
     "name": "stdout",
     "output_type": "stream",
     "text": [
      "1\n",
      "2\n",
      "3\n",
      "4\n",
      "5\n",
      "6\n"
     ]
    }
   ],
   "source": [
    "# While loop\n",
    "n = 0\n",
    "while n <6:\n",
    "    n +=1\n",
    "    print(n) "
   ]
  },
  {
   "cell_type": "code",
   "execution_count": 14,
   "metadata": {},
   "outputs": [
    {
     "name": "stdout",
     "output_type": "stream",
     "text": [
      "Numbers before break : 0\n",
      "Numbers before break : 1\n",
      "Numbers before break : 2\n",
      "Numbers before break : 3\n",
      "Numbers before break : 4\n"
     ]
    }
   ],
   "source": [
    "# using break and continue\n",
    "x = range(8)\n",
    "for num in x:\n",
    "    if num == 5:\n",
    "        break\n",
    "    print(f'Numbers before break : {num}')"
   ]
  },
  {
   "cell_type": "code",
   "execution_count": 15,
   "metadata": {},
   "outputs": [
    {
     "name": "stdout",
     "output_type": "stream",
     "text": [
      "Numbers before break : 0\n",
      "Numbers before break : 1\n",
      "Numbers before break : 2\n",
      "Numbers before break : 3\n",
      "Numbers before break : 4\n",
      "Numbers before break : 6\n",
      "Numbers before break : 7\n"
     ]
    }
   ],
   "source": [
    "# using break and continue\n",
    "x = range(8)\n",
    "for num in x:\n",
    "    if num == 5:\n",
    "        continue\n",
    "    print(f'Numbers before break : {num}')"
   ]
  },
  {
   "cell_type": "code",
   "execution_count": null,
   "metadata": {},
   "outputs": [],
   "source": [
    " "
   ]
  }
 ],
 "metadata": {
  "kernelspec": {
   "display_name": "Python 3",
   "language": "python",
   "name": "python3"
  },
  "language_info": {
   "codemirror_mode": {
    "name": "ipython",
    "version": 3
   },
   "file_extension": ".py",
   "mimetype": "text/x-python",
   "name": "python",
   "nbconvert_exporter": "python",
   "pygments_lexer": "ipython3",
   "version": "3.6.8"
  }
 },
 "nbformat": 4,
 "nbformat_minor": 2
}
