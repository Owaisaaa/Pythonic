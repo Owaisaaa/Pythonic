{
 "cells": [
  {
   "cell_type": "code",
   "execution_count": 1,
   "metadata": {},
   "outputs": [
    {
     "name": "stdout",
     "output_type": "stream",
     "text": [
      "<class '__main__.GameCharacter'>\n"
     ]
    }
   ],
   "source": [
    "### Create an empty class GameCharacter. Class name must start with a capital letter! \n",
    "class GameCharacter:\n",
    "    pass\n",
    "\n",
    "### Let's create an object of GameCharacter class. Geralt is an object of GameCharacter class\n",
    "geralt = GameCharacter()\n",
    "\n",
    "### let's find out to which class our created character belongs to\n",
    "print(type(geralt))"
   ]
  },
  {
   "cell_type": "markdown",
   "metadata": {},
   "source": [
    "### Creating a Simple Class"
   ]
  },
  {
   "cell_type": "code",
   "execution_count": 12,
   "metadata": {},
   "outputs": [
    {
     "name": "stdout",
     "output_type": "stream",
     "text": [
      "Employee: Suhaib 12000 ABC Company\n",
      "Employee: Tahir 10000 ABC Company\n",
      "12000\n"
     ]
    }
   ],
   "source": [
    "\n",
    "class Employee:\n",
    "    # class variables\n",
    "    company_name = 'ABC Company'\n",
    "\n",
    "    # constructor to initialize the object\n",
    "    def __init__(self, name, salary):\n",
    "        # instance variables\n",
    "        self.name = name\n",
    "        self.salary = salary\n",
    "\n",
    "    # instance method\n",
    "    def show(self):\n",
    "        print('Employee:', self.name, self.salary, self.company_name)\n",
    "\n",
    "# create first object\n",
    "emp1 = Employee(\"Suhaib\", 12000)\n",
    "emp1.show()\n",
    "\n",
    "# create second object\n",
    "emp2 = Employee(\"Tahir\", 10000)\n",
    "emp2.show()\n",
    "print(emp1.salary)\n"
   ]
  },
  {
   "cell_type": "markdown",
   "metadata": {},
   "source": [
    "### Encapsulation in Python\n",
    "In Python, we do not have access modifiers, such as public, private, and protected. But we can achieve encapsulation by using **prefix single underscore** and **double underscore** to control access of variable and method within the Python program. <br>\n",
    "In the below example, we create a class called Employee. Within that class, we declare two variables name and __salary. We can observe that the name variable is accessible, but __salary is the private variable. We cannot access it from outside of class. If we try to access it, we will get an error\n"
   ]
  },
  {
   "cell_type": "code",
   "execution_count": 18,
   "metadata": {},
   "outputs": [
    {
     "name": "stdout",
     "output_type": "stream",
     "text": [
      "Name is  Irfan and salary is 40000\n",
      "40000\n"
     ]
    }
   ],
   "source": [
    "class Employee:\n",
    "    def __init__(self, name, salary):\n",
    "        # public member\n",
    "        self.name = name\n",
    "        # private member\n",
    "        # not accessible outside of a class\n",
    "        self.__salary = salary\n",
    "\n",
    "    def show(self):\n",
    "        print(\"Name is \", self.name, \"and salary is\", self.__salary)\n",
    "\n",
    "emp = Employee(\"Irfan\", 40000)\n",
    "emp.show()\n",
    "\n",
    "# access salary from outside of a class\n",
    "# print(emp.__salary)\n",
    "print(emp._Employee__salary) # indirectly accessed using name mangling\n",
    "# print(emp.__dir__())\n"
   ]
  },
  {
   "cell_type": "markdown",
   "metadata": {},
   "source": [
    "### Inheritance In Python\n",
    "In Python, inheritance is the process of inheriting the properties of the parent class into a child class. <br>\n",
    "The primary purpose of inheritance is the reusability of code. Using inheritance, we can use the existing class to create a new class instead of recreating it from scratch.\n"
   ]
  },
  {
   "cell_type": "code",
   "execution_count": 5,
   "metadata": {},
   "outputs": [
    {
     "name": "stdout",
     "output_type": "stream",
     "text": [
      "BMW X1 Black 35000\n",
      "BMW X1 change gear to number 5\n"
     ]
    }
   ],
   "source": [
    "# Base class\n",
    "class Vehicle:\n",
    "\n",
    "    def __init__(self, name, color, price):\n",
    "        self.name = name\n",
    "        self.color = color\n",
    "        self.price = price\n",
    "\n",
    "    def info(self):\n",
    "        print(self.name, self.color, self.price)\n",
    "\n",
    "# Child class\n",
    "class Car(Vehicle):\n",
    "\n",
    "    def change_gear(self, no):\n",
    "        print(self.name, 'change gear to number', no)\n",
    "\n",
    "# Create object of Car\n",
    "car = Car('BMW X1', 'Black', 35000)\n",
    "car.info()\n",
    "car.change_gear(5)\n"
   ]
  },
  {
   "cell_type": "markdown",
   "metadata": {},
   "source": [
    "### Polymorphism in Python\n",
    "Polymorphism with class methods is useful when we want objects to perform the same action in different ways. In the below example, both objects calculate the area (same action) but in a different way (different formulas). <br>\n",
    "In the below example, calculate_area() instance method created in both Circle and Rectangle class. Thus, we can create a function that takes any object and calls the object's calculate_area() method to implement polymorphism. Using this object can perform."
   ]
  },
  {
   "cell_type": "code",
   "execution_count": 6,
   "metadata": {},
   "outputs": [
    {
     "name": "stdout",
     "output_type": "stream",
     "text": [
      "Area of circle : 78.5\n",
      "Area of Rectangle : 50\n"
     ]
    }
   ],
   "source": [
    "class Circle:\n",
    "    pi = 3.14\n",
    "\n",
    "    def __init__(self, redius):\n",
    "        self.radius = redius\n",
    "\n",
    "    def calculate_area(self):\n",
    "        print(\"Area of circle :\", self.pi * self.radius * self.radius)\n",
    "\n",
    "class Rectangle:\n",
    "    def __init__(self, length, width):\n",
    "        self.length = length\n",
    "        self.width = width\n",
    "\n",
    "    def calculate_area(self):\n",
    "        print(\"Area of Rectangle :\", self.length * self.width)\n",
    "\n",
    "# function\n",
    "def area(shape):\n",
    "    # call action\n",
    "    shape.calculate_area()\n",
    "\n",
    "# create object\n",
    "cir = Circle(5)\n",
    "rect = Rectangle(10, 5)\n",
    "\n",
    "# call common function\n",
    "area(cir)\n",
    "area(rect)\n"
   ]
  },
  {
   "cell_type": "code",
   "execution_count": null,
   "metadata": {},
   "outputs": [],
   "source": []
  }
 ],
 "metadata": {
  "kernelspec": {
   "display_name": "Python 3",
   "language": "python",
   "name": "python3"
  },
  "language_info": {
   "codemirror_mode": {
    "name": "ipython",
    "version": 3
   },
   "file_extension": ".py",
   "mimetype": "text/x-python",
   "name": "python",
   "nbconvert_exporter": "python",
   "pygments_lexer": "ipython3",
   "version": "3.6.8"
  }
 },
 "nbformat": 4,
 "nbformat_minor": 2
}
