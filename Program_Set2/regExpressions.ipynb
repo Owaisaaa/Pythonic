{
 "cells": [
  {
   "cell_type": "markdown",
   "metadata": {},
   "source": [
    "### A RegEx, or Regular Expression, is a sequence of characters that forms a search pattern.\n",
    "### RegEx can be used to check if a string contains the specified search pattern.\n"
   ]
  },
  {
   "cell_type": "markdown",
   "metadata": {},
   "source": [
    "#### Finding Patterns of Text Without Regular Expressions\n",
    "Say you want to find an American phone number in a string. You know the\n",
    "pattern if you’re American: three numbers, a hyphen, three numbers, a\n",
    "hyphen, and four numbers. Here’s an example: 415-555-4242."
   ]
  },
  {
   "cell_type": "markdown",
   "metadata": {},
   "source": []
  },
  {
   "cell_type": "code",
   "execution_count": 2,
   "metadata": {},
   "outputs": [],
   "source": [
    "def isPhoneNumber(text):\n",
    "    if len(text) != 12:\n",
    "        return False\n",
    "    for i in range(0, 3):\n",
    "        if not text[i].isdecimal():\n",
    "            return False\n",
    "    if text[3] != '-':\n",
    "        return False\n",
    "    for i in range(4, 7):\n",
    "        if not text[i].isdecimal():\n",
    "            return False\n",
    "    if text[7] != '-':\n",
    "        return False\n",
    "    for i in range(8, 12):\n",
    "        if not text[i].isdecimal():\n",
    "            return False\n",
    "    return True"
   ]
  },
  {
   "cell_type": "code",
   "execution_count": 5,
   "metadata": {},
   "outputs": [
    {
     "name": "stdout",
     "output_type": "stream",
     "text": [
      "Is 415-555-4242 a phone number?\n",
      "True\n",
      "Is xxxx-123-345 a phone number?\n",
      "False\n"
     ]
    }
   ],
   "source": [
    "print('Is 415-555-4242 a phone number?')\n",
    "print(isPhoneNumber('415-555-4242'))\n",
    "print('Is xxxx-123-345 a phone number?')\n",
    "print(isPhoneNumber('Moshi moshi'))"
   ]
  },
  {
   "cell_type": "code",
   "execution_count": 21,
   "metadata": {},
   "outputs": [
    {
     "name": "stdout",
     "output_type": "stream",
     "text": [
      "Phone number found: 415-555-1011\n",
      "Phone number found: 415-555-9999\n",
      "We are Done\n"
     ]
    }
   ],
   "source": [
    "message = 'Call me at 415-555-1011 tomorrow. 415-555-9999 is my office.'\n",
    "for i in range(len(message)):\n",
    "    chunk = message[i:i+12]\n",
    "    # print(chunk)\n",
    "    if isPhoneNumber(chunk):\n",
    "        print('Phone number found: ' + chunk)\n",
    "print('We are Done')"
   ]
  },
  {
   "cell_type": "markdown",
   "metadata": {},
   "source": [
    "What about a phone number formatted like 415.555.4242 or (415) 555-4242? \n",
    "What if the phone number had an extension, like 415-555-4242 x99? \n",
    "The isPhoneNumber() function would fail to validate them.\n",
    "We could add yet more code for these additional patterns, but there is an easier way."
   ]
  },
  {
   "cell_type": "markdown",
   "metadata": {},
   "source": [
    "#### Finding Patterns of Text with Regular Expressions\n",
    "Regular expressions, called regexes for short, are descriptions for a pattern\n",
    "of text. For example, a \\d in a regex stands for a digit character—that\n",
    "is, any single numeral from 0 to 9. The regex \\d\\d\\d-\\d\\d\\d-\\d\\d\\d\\d is used\n",
    "by Python to match the same text pattern the previous isPhoneNumber() function did"
   ]
  },
  {
   "cell_type": "markdown",
   "metadata": {},
   "source": [
    "But regular expressions can be much more sophisticated. For example,\n",
    "adding a 3 in braces ({3}) after a pattern is like saying, “Match this pattern\n",
    "three times.” So the slightly shorter regex \\d{3}-\\d{3}-\\d{4} also matches the\n",
    "correct phone number format."
   ]
  },
  {
   "cell_type": "code",
   "execution_count": 8,
   "metadata": {},
   "outputs": [
    {
     "name": "stdout",
     "output_type": "stream",
     "text": [
      "Phone number found: 415-555-4242\n"
     ]
    }
   ],
   "source": [
    "# Creating Regex Objects\n",
    "import re\n",
    "phoneNumRegex = re.compile(r'\\d\\d\\d-\\d\\d\\d-\\d\\d\\d\\d')\n",
    "mo = phoneNumRegex.search('My number is 415-555-4242.')\n",
    "print('Phone number found: ' + mo.group())"
   ]
  },
  {
   "cell_type": "markdown",
   "metadata": {},
   "source": [
    "Passing a string value representing your regular expression to\n",
    "**re.compile()** returns a Regex pattern object (or simply, a Regex object).<br>\n",
    "A Regex object’s search() method searches the string it is passed for any\n",
    "matches to the regex. The search() method will return None if the regex pattern\n",
    "is not found in the string. <br>If the pattern is found, the search() method\n",
    "returns a Match object, which have a group() method that will return the\n",
    "actual matched text from the searched string. <br>\n",
    "In the code cell above, we pass our desired pattern to re.compile() and store the resulting\n",
    "Regex object in phoneNumRegex. <br>Then we call search() on phoneNumRegex and\n",
    "pass search() the string we want to match for during the search. The result\n",
    "of the search gets stored in the variable mo.<br> In above example, we know that\n",
    "our pattern will be found in the string, so we know that a Match object will\n",
    "be returned. Knowing that **mo** contains a Match object and not the null value\n",
    "None, we can call group() on **mo** to return the match. <br>Writing mo.group() inside\n",
    "our print() function call displays the whole match, 415-555-4242."
   ]
  },
  {
   "cell_type": "code",
   "execution_count": 13,
   "metadata": {},
   "outputs": [
    {
     "name": "stdout",
     "output_type": "stream",
     "text": [
      "415\n",
      "555-4242\n",
      "415-555-4242\n",
      "415-555-4242\n",
      "('415', '555-4242')\n",
      "415\n",
      "555-4242\n"
     ]
    }
   ],
   "source": [
    "# Grouping with Parentheses\n",
    "phoneNumRegex = re.compile(r'(\\d\\d\\d)-(\\d\\d\\d-\\d\\d\\d\\d)')\n",
    "mo = phoneNumRegex.search('My number is 415-555-4242.')\n",
    "print(mo.group(1))\n",
    "print(mo.group(2))\n",
    "print(mo.group(0))\n",
    "print(mo.group())\n",
    "print(mo.groups()) # Total groups\n",
    "areaCode, mainNumber = mo.groups()\n",
    "print(areaCode)\n",
    "print(mainNumber)"
   ]
  },
  {
   "cell_type": "markdown",
   "metadata": {},
   "source": [
    "### Review of Regular Expression Matching\n",
    "While there are several steps to using regular expressions in Python, each\n",
    "step is fairly simple.\n",
    "1. Import the regex module with import re.\n",
    "2. Create a Regex object with the re.compile() function. (Remember to use\n",
    "a raw string.)\n",
    "3. Pass the string you want to search into the Regex object’s search()\n",
    "method. This returns a Match object.\n",
    "4. Call the Match object’s group() method to return a string of the actual\n",
    "matched text."
   ]
  },
  {
   "cell_type": "code",
   "execution_count": 14,
   "metadata": {},
   "outputs": [
    {
     "name": "stdout",
     "output_type": "stream",
     "text": [
      "(415) 555-4242\n"
     ]
    }
   ],
   "source": [
    "# phone numbers you are trying to match have the area code set in parentheses. \n",
    "# In this case, we need to escape the ( and ) characters with a backslash.\n",
    "phoneNumRegex = re.compile(r'(\\(\\d\\d\\d\\)) (\\d\\d\\d-\\d\\d\\d\\d)')\n",
    "mo = phoneNumRegex.search('My phone number is (415) 555-4242.')\n",
    "print(mo.group())"
   ]
  },
  {
   "cell_type": "code",
   "execution_count": 15,
   "metadata": {},
   "outputs": [
    {
     "data": {
      "text/plain": [
       "'Batmobile'"
      ]
     },
     "execution_count": 15,
     "metadata": {},
     "output_type": "execute_result"
    }
   ],
   "source": [
    "# Matching Multiple Groups with the Pipe\n",
    "batRegex = re.compile(r'Bat(man|mobile|copter|bat)')\n",
    "mo = batRegex.search('Batmobile lost a wheel')\n",
    "mo.group()"
   ]
  },
  {
   "cell_type": "code",
   "execution_count": 17,
   "metadata": {},
   "outputs": [
    {
     "name": "stdout",
     "output_type": "stream",
     "text": [
      "Batman\n",
      "Batwoman\n"
     ]
    },
    {
     "data": {
      "text/plain": [
       "\"The (wo)? part of the regular expression means that the pattern wo is\\nan optional group. The regex will match text that has zero instances or one\\ninstance of wo in it. This is why the regex matches both 'Batwoman' and 'Batman'.\\n \""
      ]
     },
     "execution_count": 17,
     "metadata": {},
     "output_type": "execute_result"
    }
   ],
   "source": [
    "# Optional Matching with the Question Mark\n",
    "batRegex = re.compile(r'Bat(wo)?man')\n",
    "mo1 = batRegex.search('The Adventures of Batman')\n",
    "print(mo1.group())\n",
    "mo2 = batRegex.search('The Adventures of Batwoman')\n",
    "print(mo2.group())\n",
    "\n",
    "\"\"\"The (wo)? part of the regular expression means that the pattern wo is\n",
    "an optional group. The regex will match text that has zero instances or one\n",
    "instance of wo in it. This is why the regex matches both 'Batwoman' and 'Batman'.\n",
    " \"\"\"\n"
   ]
  },
  {
   "cell_type": "code",
   "execution_count": 18,
   "metadata": {},
   "outputs": [
    {
     "name": "stdout",
     "output_type": "stream",
     "text": [
      "415-555-4242\n",
      "555-4242\n"
     ]
    }
   ],
   "source": [
    "\"\"\"Using the earlier phone number example, we can make the regex look\n",
    "for phone numbers that do or do not have an area code.\"\"\"\n",
    "phoneRegex = re.compile(r'(\\d\\d\\d-)?\\d\\d\\d-\\d\\d\\d\\d')\n",
    "mo1 = phoneRegex.search('My number is 415-555-4242')\n",
    "print(mo1.group())\n",
    "# Phone number without area code\n",
    "mo2 = phoneRegex.search('My number is 555-4242')\n",
    "print(mo2.group())"
   ]
  },
  {
   "cell_type": "code",
   "execution_count": 77,
   "metadata": {},
   "outputs": [
    {
     "name": "stdout",
     "output_type": "stream",
     "text": [
      "HaHaHa\n",
      "True\n"
     ]
    }
   ],
   "source": [
    "# Matching Specific Repetitions with Braces\n",
    "\"\"\"For example, the regex \n",
    "(Ha){3} will match the string 'HaHaHa', but it will not match 'HaHa',\n",
    "since the latter has only two repeats of the (Ha) group.\\\n",
    "The regex (Ha){3,5} will match 'HaHaHa', 'HaHaHaHa', and 'HaHaHaHaHa'.\n",
    "(Ha){3,} will match three or more instances of the (Ha) group, \n",
    "while (Ha){,5} will match zero to five instances.\n",
    "These two regular expressions also match identical patterns:\n",
    "(Ha){3}\n",
    "(Ha)(Ha)(Ha)\n",
    "(Ha){3,5}\n",
    "((Ha)(Ha)(Ha))|((Ha)(Ha)(Ha)(Ha))|((Ha)(Ha)(Ha)(Ha)(Ha))\n",
    "\"\"\"\n",
    "haRegex = re.compile(r'(Ha){3}')\n",
    "mo1 = haRegex.search('HaHaHa')\n",
    "print(mo1.group())\n",
    "mo2 = haRegex.search('Ha')\n",
    "print(mo2 == None)\n"
   ]
  },
  {
   "cell_type": "code",
   "execution_count": 62,
   "metadata": {},
   "outputs": [
    {
     "name": "stdout",
     "output_type": "stream",
     "text": [
      "['The', 'the']\n"
     ]
    }
   ],
   "source": [
    "# findall function\n",
    "msg = \"The quick brown fox jumps over the lazy dog\"\n",
    "x = re.findall(\"[A-Za-z]he\", msg)\n",
    "print(x)"
   ]
  },
  {
   "cell_type": "code",
   "execution_count": 66,
   "metadata": {},
   "outputs": [
    {
     "name": "stdout",
     "output_type": "stream",
     "text": [
      "['The', 'quick', 'brown fox jumps over the lazy dog']\n"
     ]
    }
   ],
   "source": [
    "# split function\n",
    "msg = \"The quick brown fox jumps over the lazy dog\"\n",
    "x = re.split(\"\\s\", msg, 2)\n",
    "print(x)"
   ]
  },
  {
   "cell_type": "code",
   "execution_count": 71,
   "metadata": {},
   "outputs": [
    {
     "name": "stdout",
     "output_type": "stream",
     "text": [
      "Tariq Ahmad\n"
     ]
    }
   ],
   "source": [
    "msg = \"      Tariq Ahmad      \"\n",
    "y = msg.strip()\n",
    "print(y)"
   ]
  },
  {
   "cell_type": "code",
   "execution_count": 40,
   "metadata": {},
   "outputs": [
    {
     "name": "stdout",
     "output_type": "stream",
     "text": [
      "The$quick$brown$fox$jumps$over$the$lazy$dog\n"
     ]
    }
   ],
   "source": [
    "# sub function\n",
    "msg = \"The quick brown fox jumps over the lazy dog\"\n",
    "x = re.sub(\"\\s\", '$', msg)\n",
    "print(x)"
   ]
  },
  {
   "cell_type": "markdown",
   "metadata": {},
   "source": [
    "### Match object\n",
    "#### A Match Object is an object containing information about the search and the result.\n",
    "The Match object has properties and methods used to retrieve information about the search, and the result:\n",
    "\n",
    ".span() returns a tuple containing the start-, and end positions of the match <br>\n",
    ".string returns the string passed into the function <br>\n",
    ".group() returns the part of the string where there was a match"
   ]
  },
  {
   "cell_type": "code",
   "execution_count": 55,
   "metadata": {},
   "outputs": [
    {
     "name": "stdout",
     "output_type": "stream",
     "text": [
      "<_sre.SRE_Match object; span=(10, 15), match='brown'>\n"
     ]
    }
   ],
   "source": [
    "msg = \"The quick brown fox jumps over the lazy dog\"\n",
    "x = re.search(\"brown\", msg)\n",
    "print(x) #this will print an object"
   ]
  },
  {
   "cell_type": "code",
   "execution_count": 47,
   "metadata": {},
   "outputs": [
    {
     "name": "stdout",
     "output_type": "stream",
     "text": [
      "(10, 15)\n"
     ]
    }
   ],
   "source": [
    "# span() returns beginning and end of the searched word\n",
    "msg = \"The quick brown fox jumps over the lazy dog\"\n",
    "x = re.search(\"brown\", msg)\n",
    "print(x.span()) "
   ]
  },
  {
   "cell_type": "code",
   "execution_count": 75,
   "metadata": {},
   "outputs": [
    {
     "name": "stdout",
     "output_type": "stream",
     "text": [
      "The quick brown fox jumps over the lazy dog\n"
     ]
    }
   ],
   "source": [
    "# string returns the entire string if the searched word is present\n",
    "msg = \"The quick brown fox jumps over the lazy dog\"\n",
    "x = re.search(\"fox\", msg)\n",
    "print(x.string) "
   ]
  },
  {
   "cell_type": "code",
   "execution_count": 53,
   "metadata": {},
   "outputs": [
    {
     "name": "stdout",
     "output_type": "stream",
     "text": [
      "brown\n"
     ]
    }
   ],
   "source": [
    "# group returns the part of the string where there was a match\n",
    "msg = \"The quick brown fox jumps over the lazy dog\"\n",
    "x = re.search(\"brown\", msg)\n",
    "print(x.group())"
   ]
  },
  {
   "cell_type": "code",
   "execution_count": null,
   "metadata": {},
   "outputs": [],
   "source": []
  }
 ],
 "metadata": {
  "kernelspec": {
   "display_name": "Python 3",
   "language": "python",
   "name": "python3"
  },
  "language_info": {
   "codemirror_mode": {
    "name": "ipython",
    "version": 3
   },
   "file_extension": ".py",
   "mimetype": "text/x-python",
   "name": "python",
   "nbconvert_exporter": "python",
   "pygments_lexer": "ipython3",
   "version": "3.6.8"
  }
 },
 "nbformat": 4,
 "nbformat_minor": 2
}
