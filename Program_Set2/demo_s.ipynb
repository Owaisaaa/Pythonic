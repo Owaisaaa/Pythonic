{
 "cells": [
  {
   "cell_type": "code",
   "execution_count": 3,
   "metadata": {},
   "outputs": [
    {
     "name": "stdout",
     "output_type": "stream",
     "text": [
      "i\n"
     ]
    }
   ],
   "source": [
    "x = \" This is a string\"\n",
    "y = \"IUST\"\n",
    "print(x[6])"
   ]
  },
  {
   "cell_type": "code",
   "execution_count": 28,
   "metadata": {},
   "outputs": [
    {
     "name": "stdout",
     "output_type": "stream",
     "text": [
      "I am an IUSTian\n"
     ]
    }
   ],
   "source": [
    "x = '     ,.IUST,,/a'\n",
    "# OP - I am an IUSTian \n",
    "y = x.strip(' ,./a')\n",
    "print(\"I am an \" + y + \"ian\")"
   ]
  },
  {
   "cell_type": "code",
   "execution_count": 34,
   "metadata": {},
   "outputs": [
    {
     "name": "stdout",
     "output_type": "stream",
     "text": [
      "Cats does not eat bananas\n"
     ]
    }
   ],
   "source": [
    "# ['Cats', 'does', 'not', 'eat', 'bananas']\n",
    "# OP - Cats does not eat bananas\n",
    "l = ['Cats', 'does', 'not', 'eat', 'bananas']\n",
    "x = \" \".join(l)\n",
    "print(x)"
   ]
  },
  {
   "cell_type": "code",
   "execution_count": 43,
   "metadata": {},
   "outputs": [
    {
     "name": "stdout",
     "output_type": "stream",
     "text": [
      "He is an 5000 old Angel \n",
      "He is an 5000 old Angel\n"
     ]
    }
   ],
   "source": [
    "\"\"\" This code explains \n",
    "How to use\n",
    " Multiline comments \n",
    " email: \"\"\"\n",
    "x = 'Angel'\n",
    "y = 5000\n",
    "print(\"He is an %s old %s \" % (y,x))\n",
    "print(f'He is an {y} old {x}')\n"
   ]
  },
  {
   "cell_type": "code",
   "execution_count": 44,
   "metadata": {},
   "outputs": [
    {
     "name": "stdout",
     "output_type": "stream",
     "text": [
      "True\n"
     ]
    }
   ],
   "source": [
    "print(\"Angel\" in x)"
   ]
  },
  {
   "cell_type": "code",
   "execution_count": 48,
   "metadata": {},
   "outputs": [
    {
     "name": "stdout",
     "output_type": "stream",
     "text": [
      "angrams\n"
     ]
    }
   ],
   "source": [
    "# abc | cba \n",
    "x = sorted('abc')\n",
    "y = sorted('cba')\n",
    "if (x==y):\n",
    "    print('angrams')\n",
    "else:\n",
    "    print('Not angrams')"
   ]
  },
  {
   "cell_type": "code",
   "execution_count": null,
   "metadata": {},
   "outputs": [],
   "source": [
    "# s = 'apricots are so tasty'\n",
    "# Find the number of vowel characters in s as key, value pairs e.g a:2"
   ]
  },
  {
   "cell_type": "code",
   "execution_count": 5,
   "metadata": {},
   "outputs": [
    {
     "name": "stdout",
     "output_type": "stream",
     "text": [
      "[80, 1]\n",
      "[50, 2]\n",
      "[51, 1]\n",
      "[20, 2]\n"
     ]
    }
   ],
   "source": [
    "d = [50, 20, 20, 51, 50, 80]\n",
    "s = set(d)\n",
    "for x in s:\n",
    "    print([x, d.count(x)])"
   ]
  },
  {
   "cell_type": "code",
   "execution_count": 7,
   "metadata": {},
   "outputs": [
    {
     "name": "stdout",
     "output_type": "stream",
     "text": [
      "[[80, 1], [50, 2], [51, 1], [20, 2]]\n"
     ]
    }
   ],
   "source": [
    "d = [50, 20, 20, 51, 50, 80]\n",
    "s = set(d)\n",
    "n_l = [[x,d.count(x)] for x in s]\n",
    "print(n_l)\n"
   ]
  },
  {
   "cell_type": "code",
   "execution_count": 9,
   "metadata": {},
   "outputs": [
    {
     "name": "stdout",
     "output_type": "stream",
     "text": [
      "[0, 1, 4, 9, 16, 25, 36, 49, 64, 81]\n"
     ]
    }
   ],
   "source": [
    "newlist = [x * x for x in range(10)]\n",
    "print(newlist)"
   ]
  },
  {
   "cell_type": "code",
   "execution_count": 13,
   "metadata": {},
   "outputs": [
    {
     "name": "stdout",
     "output_type": "stream",
     "text": [
      "[0, 1, 4, 9, 16, 25, 36, 49, 64, 81]\n"
     ]
    }
   ],
   "source": [
    "print([x * x for x in range(10)])"
   ]
  },
  {
   "cell_type": "code",
   "execution_count": null,
   "metadata": {},
   "outputs": [],
   "source": []
  }
 ],
 "metadata": {
  "kernelspec": {
   "display_name": "Python 3",
   "language": "python",
   "name": "python3"
  },
  "language_info": {
   "codemirror_mode": {
    "name": "ipython",
    "version": 3
   },
   "file_extension": ".py",
   "mimetype": "text/x-python",
   "name": "python",
   "nbconvert_exporter": "python",
   "pygments_lexer": "ipython3",
   "version": "3.6.8"
  }
 },
 "nbformat": 4,
 "nbformat_minor": 2
}
