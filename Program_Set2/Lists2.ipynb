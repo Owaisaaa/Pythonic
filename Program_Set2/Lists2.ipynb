{
 "cells": [
  {
   "cell_type": "code",
   "execution_count": 2,
   "metadata": {},
   "outputs": [
    {
     "name": "stdout",
     "output_type": "stream",
     "text": [
      "[1, 'mit', 'o', 100]\n"
     ]
    }
   ],
   "source": [
    "# List object\n",
    "list1 = [1, 'mit', 'o', 100]\n",
    "print(list1)"
   ]
  },
  {
   "cell_type": "code",
   "execution_count": 6,
   "metadata": {},
   "outputs": [
    {
     "name": "stdout",
     "output_type": "stream",
     "text": [
      "<class 'range'>\n",
      "0\n",
      "1\n",
      "2\n",
      "3\n",
      "4\n",
      "5\n",
      "6\n",
      "7\n"
     ]
    }
   ],
   "source": [
    "l2 = range(8)\n",
    "print(type(l2))\n",
    "for x in l2:\n",
    "    print(x)"
   ]
  },
  {
   "cell_type": "code",
   "execution_count": 14,
   "metadata": {},
   "outputs": [
    {
     "name": "stdout",
     "output_type": "stream",
     "text": [
      "<class 'list'>\n",
      "3\n",
      "[0, 1, 2, 3, 4, 5, 6, 7]\n"
     ]
    }
   ],
   "source": [
    "l2 = list(range(8))\n",
    "print(type(l2))\n",
    "print(l2[3])\n",
    "print(l2)"
   ]
  },
  {
   "cell_type": "code",
   "execution_count": 11,
   "metadata": {},
   "outputs": [
    {
     "name": "stdout",
     "output_type": "stream",
     "text": [
      "<class 'list'>\n",
      "[range(0, 8)]\n"
     ]
    }
   ],
   "source": [
    "l2 = [range(8)]\n",
    "print(type(l2))\n",
    "print(l2)"
   ]
  },
  {
   "cell_type": "code",
   "execution_count": 13,
   "metadata": {},
   "outputs": [
    {
     "name": "stdout",
     "output_type": "stream",
     "text": [
      "range(0, 8)\n"
     ]
    }
   ],
   "source": [
    "print(l2[0])"
   ]
  },
  {
   "cell_type": "code",
   "execution_count": 15,
   "metadata": {},
   "outputs": [
    {
     "name": "stdout",
     "output_type": "stream",
     "text": [
      "[15, 25, 35, 40]\n"
     ]
    }
   ],
   "source": [
    "#  *****************  LISTS  ***********************\n",
    "list1 = [10, 20, 30, 35]\n",
    "for i in range(0, 4):\n",
    "\tlist1[i] = list1[i] + 5\n",
    "print(list1)\n"
   ]
  },
  {
   "cell_type": "code",
   "execution_count": 22,
   "metadata": {},
   "outputs": [
    {
     "name": "stdout",
     "output_type": "stream",
     "text": [
      "[['Owais', 'Bhat'], [10, 12, 14, 16], [15, 800]]\n",
      "['Owais', 'Bhat']\n",
      "[10, 12, 14, 16]\n",
      "800\n",
      "Bhat\n",
      "14\n"
     ]
    }
   ],
   "source": [
    "# ******************* 2D LIST  *********************\n",
    "list2 = [['Owais', 'Bhat'], [10, 12, 14, 16], [15, 800]]\n",
    "print(list2)\n",
    "print(list2[0])\n",
    "print(list2[1])\n",
    "print(list2[2][1])\n",
    "print(list2[0][1])\n",
    "print(list2[1][2])"
   ]
  },
  {
   "cell_type": "code",
   "execution_count": 29,
   "metadata": {},
   "outputs": [
    {
     "name": "stdout",
     "output_type": "stream",
     "text": [
      "['apple', 'pear', 'grapes', 'mango']\n",
      "['apple', 'pear']\n",
      "['apple', 'pear', 'grapes', 'mango']\n",
      "['grapes', 'mango']\n",
      "['apple', 'pear', 'grapes', 'mango']\n"
     ]
    }
   ],
   "source": [
    "#  *****************  LIST SLICES  *****************\n",
    "list3 = ['apple', 'pear', 'grapes', 'mango']\n",
    "print(list3[0:4])\n",
    "print(list3[:2])\n",
    "# print(list3[1:3])\n",
    "print(list3[0:])\n",
    "print(list3[2:])\n",
    "print(list3[:])"
   ]
  },
  {
   "cell_type": "code",
   "execution_count": 36,
   "metadata": {},
   "outputs": [
    {
     "name": "stdout",
     "output_type": "stream",
     "text": [
      "[15, 25, 35, 40, 'apple', 'pear', 'grapes', 'mango']\n",
      "[15, 25, 35, 40, 'apple', 'pear', 'grapes', 'mango', 15, 25, 35, 40, 'apple', 'pear', 'grapes', 'mango']\n",
      "[15, 25, 35, 40, 'apple', 'pear', 'grapes', 'mango', 15, 25, 35, 40, 'apple', 'pear', 'grapes', 'mango', 100, 200]\n",
      "[15, 25, 35, 40, 'apple', 'pear', 'grapes', 'mango', 15, 25, 35, 40, 'apple', 'pear', 'grapes', 'mango', 100]\n"
     ]
    }
   ],
   "source": [
    "#  *****************  LIST CONCATENATION (+) AND REPLICATION (*)  ******************\n",
    "list4 = list1 + list3  # List concatenation\n",
    "print(list4)\n",
    "list4 = list4 * 2  # List replication\n",
    "print(list4)\n",
    "list4 = list4 + [100, 200]\n",
    "print(list4)\n",
    "del list4[-1]  # delete elements form the list using index\n",
    "print(list4)"
   ]
  },
  {
   "cell_type": "code",
   "execution_count": 44,
   "metadata": {},
   "outputs": [
    {
     "name": "stdout",
     "output_type": "stream",
     "text": [
      "[100, 500, 800]\n",
      "[100, 500, 800]\n",
      "[100, 500]\n"
     ]
    }
   ],
   "source": [
    "list5 = [100, 500, 800, 750]\n",
    "print(list5[:3])\n",
    "print(list5[-4:-1])\n",
    "del list5[2:]\n",
    "print(list5)"
   ]
  },
  {
   "cell_type": "code",
   "execution_count": 45,
   "metadata": {},
   "outputs": [
    {
     "name": "stdout",
     "output_type": "stream",
     "text": [
      "Element found\n"
     ]
    }
   ],
   "source": [
    "#  **************** using in and not operators with lists  ********************\n",
    "if 35 in list4:  # return true if 35 is in list4\n",
    "\tprint('Element found')\n",
    "if 'apple' not in list4:  # return true if specified element not present in the list\n",
    "\tprint('Element not found in the list')"
   ]
  },
  {
   "cell_type": "code",
   "execution_count": 2,
   "metadata": {},
   "outputs": [
    {
     "name": "stdout",
     "output_type": "stream",
     "text": [
      "Not found\n"
     ]
    }
   ],
   "source": [
    "l2 = ['Mohsin', 'zubair', 'Tanzeel']\n",
    "name = 'Nawaz'\n",
    "if name in l2:\n",
    "    print('Found')\n",
    "else:\n",
    "    print('Not found')"
   ]
  },
  {
   "cell_type": "code",
   "execution_count": 19,
   "metadata": {},
   "outputs": [
    {
     "name": "stdout",
     "output_type": "stream",
     "text": [
      "['larry', 'curly', 'moe']\n",
      "['larry', 'curly', 'Owais', 'moe', 'shemp']\n",
      "['larry', 'curly', 'Owais', 'moe', 'shemp', 'yyy', 'zzz']\n",
      "['yyy', 'zzz']\n",
      "6\n",
      "['larry', 'curly', 'Owais', 'moe', 'shemp', 'yyy']\n",
      "curly\n",
      "['larry', 'Owais', 'moe', 'shemp', 'yyy']\n",
      "['yyy', 'shemp', 'moe', 'Owais', 'larry']\n",
      "['larry', 'Owais', 'moe', 'shemp', 'yyy']\n",
      "['yyy', 'moe', 'Owais', 'larry']\n",
      "[1, 5, 15, 80]\n"
     ]
    }
   ],
   "source": [
    "list = ['larry', 'curly', 'moe']\n",
    "print(list)\n",
    "list.append('shemp')         ## append elem at end\n",
    "list.insert(2, 'Owais')        ## insert elem at index 0\n",
    "print(list)\n",
    "list2 = ['yyy', 'zzz']\n",
    "list.extend(list2)  ## add list of elems at end\n",
    "print(list)  ## ['xxx', 'larry', 'curly', 'moe', 'shemp', 'yyy', 'zzz']\n",
    "print(list2)\n",
    "print(list.index('zzz'))    ## 2\n",
    "\n",
    "list.remove('zzz')         ## search and remove that element\n",
    "print(list)\n",
    "\n",
    "x = list.pop(1) \n",
    "print(x)\n",
    "print(list)\n",
    "list.reverse()\n",
    "print(list)\n",
    "print(list[::-1])\n",
    "# removes and returns 'larry'\n",
    "list.remove('shemp')\n",
    "print(list)  ## ['Jem', 'moe', 'shemp', 'yyy', 'zzz']\n",
    "l5 = [15, 1, 5, 80]\n",
    "l5.sort()\n",
    "print(l5)  ## ['Jem', 'moe', 'shemp', 'yyy', 'zzz']"
   ]
  },
  {
   "cell_type": "code",
   "execution_count": 44,
   "metadata": {},
   "outputs": [
    {
     "name": "stdout",
     "output_type": "stream",
     "text": [
      "[(10, 'a'), (50, 'b'), (80, 'c'), (50, 'd')]\n"
     ]
    }
   ],
   "source": [
    "# del list\n",
    "list6 = [10,50,80, 50]\n",
    "list7 = ['a', 'b', 'c', 'd']\n",
    "r = list(zip(list6,list7))\n",
    "\n",
    "print(r)\n"
   ]
  },
  {
   "cell_type": "code",
   "execution_count": 2,
   "metadata": {},
   "outputs": [
    {
     "name": "stdout",
     "output_type": "stream",
     "text": [
      "[10, 2]\n",
      "[80, 1]\n",
      "[50, 1]\n",
      "[20, 2]\n",
      "[30, 1]\n"
     ]
    }
   ],
   "source": [
    "d = [10, 20, 10, 30, 50, 80, 20]\n",
    "s = set(d)\n",
    "for x in s:\n",
    "    print([x, d.count(x)])"
   ]
  },
  {
   "cell_type": "code",
   "execution_count": 8,
   "metadata": {},
   "outputs": [
    {
     "name": "stdout",
     "output_type": "stream",
     "text": [
      "[16, 25, 36, 49]\n"
     ]
    }
   ],
   "source": [
    "# list comprehension\n",
    "l = []\n",
    "for i in range(8):\n",
    "    if i > 3:\n",
    "        l.append(i*i)\n",
    "\n",
    "print(l)"
   ]
  },
  {
   "cell_type": "code",
   "execution_count": 6,
   "metadata": {},
   "outputs": [
    {
     "name": "stdout",
     "output_type": "stream",
     "text": [
      "[16, 25, 36, 49]\n"
     ]
    }
   ],
   "source": [
    "l2 = [i * i for i in range(8) if i>3]\n",
    "print(l2)"
   ]
  },
  {
   "cell_type": "code",
   "execution_count": null,
   "metadata": {},
   "outputs": [],
   "source": []
  },
  {
   "cell_type": "code",
   "execution_count": null,
   "metadata": {},
   "outputs": [],
   "source": []
  },
  {
   "cell_type": "code",
   "execution_count": 3,
   "metadata": {},
   "outputs": [
    {
     "name": "stdout",
     "output_type": "stream",
     "text": [
      "{'a': 3, 'e': 0, 'i': 1, 'o': 1, 'u': 1}\n"
     ]
    }
   ],
   "source": [
    "s = \"Today is a sunny day\"\n",
    "s = s.lower()\n",
    "d = {}\n",
    "s2 = 'aeiou'\n",
    "for i in s2:\n",
    "    count = s.count(i)\n",
    "    d[i] = count\n",
    "    \n",
    "print(d)"
   ]
  },
  {
   "cell_type": "code",
   "execution_count": null,
   "metadata": {},
   "outputs": [],
   "source": []
  }
 ],
 "metadata": {
  "kernelspec": {
   "display_name": "Python 3",
   "language": "python",
   "name": "python3"
  },
  "language_info": {
   "codemirror_mode": {
    "name": "ipython",
    "version": 3
   },
   "file_extension": ".py",
   "mimetype": "text/x-python",
   "name": "python",
   "nbconvert_exporter": "python",
   "pygments_lexer": "ipython3",
   "version": "3.6.8"
  }
 },
 "nbformat": 4,
 "nbformat_minor": 2
}
